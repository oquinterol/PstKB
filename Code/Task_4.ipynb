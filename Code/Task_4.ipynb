{
 "cells": [
  {
   "cell_type": "markdown",
   "metadata": {},
   "source": [
    "# Modelo Actualizado"
   ]
  },
  {
   "cell_type": "markdown",
   "metadata": {},
   "source": [
    "cpd00002 -> ATP\n",
    "\n",
    "cpd00008 -> ADP\n",
    "\n",
    "cpd00163 -> UDP-xylose\n",
    "\n",
    "(sin cpd0008 y cpd00163), que son los que hacen el modelo ya no optimice."
   ]
  },
  {
   "cell_type": "code",
   "execution_count": 3,
   "metadata": {},
   "outputs": [],
   "source": [
    "import libsbml\n",
    "import pandas as pd\n",
    "from cobra.io import read_sbml_model"
   ]
  },
  {
   "cell_type": "code",
   "execution_count": 5,
   "metadata": {},
   "outputs": [],
   "source": [
    "# Cargar el modelo original\n",
    "modelo_ori_path = '../Models/PstKB.ori.xml'\n",
    "# Carga el modelo usado Cobra\n",
    "modelo_ori = read_sbml_model(modelo_ori_path)\n",
    "# Crear un lector de SBML\n",
    "lector = libsbml.SBMLReader()\n",
    "# Leer el archivo SBML y cargarlo en un objeto SBMLDocument\n",
    "documento_sbml = lector.readSBML(modelo_ori_path)\n",
    "# Obtener el modelo el SBML\n",
    "modelo_ori_sbml = documento_sbml.getModel()\n",
    "# Leer los datos del Excel\n",
    "excel_path = '../Data/modelData.xls'\n",
    "comparative_ofs_sheet = 'Comparative OFs'\n",
    "# Solo nos interesan las últimas dos columnas ('ID' y 'PstKB_cobra'), ajusta si es necesario\n",
    "comparative_ofs = pd.read_excel(excel_path, sheet_name=comparative_ofs_sheet, usecols=[\"ID\", \"PstKB_cobra\"])\n",
    "# Quitar [c0] o [d0] de los IDs si es necesario\n",
    "comparative_ofs['ID'] = comparative_ofs['ID'].str.replace(r'\\[c0\\]|\\[d0\\]', '', regex=True)\n",
    "# Convertir el DataFrame a un diccionario para fácil acceso\n",
    "diccionario_coeficientes = pd.Series(comparative_ofs.PstKB_cobra.values, index=comparative_ofs.ID).to_dict()\n",
    "# Nombre de las reacciones del modelo\n",
    "columnas_reacciones = [reaccion.getId() for reaccion in documento_sbml.getModel().getListOfReactions()]\n",
    "resultados_data = []"
   ]
  },
  {
   "cell_type": "code",
   "execution_count": 10,
   "metadata": {},
   "outputs": [],
   "source": [
    "def modificar_modelo(documento_sbml, metabolito_id, nuevo_coeficiente):\n",
    "    modelo_modificado_sbml = documento_sbml.getModel()\n",
    "    reaccion = modelo_modificado_sbml.getReaction('R_bio1_biomass')\n",
    "    if reaccion:\n",
    "        for reactante in reaccion.getListOfReactants():\n",
    "            especie = modelo_modificado_sbml.getSpecies(reactante.getSpecies())\n",
    "            if metabolito_id in especie.getId():\n",
    "                reactante.setStoichiometry(nuevo_coeficiente)\n",
    "        for producto in reaccion.getListOfProducts():\n",
    "            especie = modelo_modificado_sbml.getSpecies(producto.getSpecies())\n",
    "            if metabolito_id in especie.getId():\n",
    "                producto.setStoichiometry(nuevo_coeficiente)\n",
    "    return documento_sbml"
   ]
  },
  {
   "cell_type": "code",
   "execution_count": 25,
   "metadata": {},
   "outputs": [
    {
     "data": {
      "text/html": [
       "<div>\n",
       "<style scoped>\n",
       "    .dataframe tbody tr th:only-of-type {\n",
       "        vertical-align: middle;\n",
       "    }\n",
       "\n",
       "    .dataframe tbody tr th {\n",
       "        vertical-align: top;\n",
       "    }\n",
       "\n",
       "    .dataframe thead th {\n",
       "        text-align: right;\n",
       "    }\n",
       "</style>\n",
       "<table border=\"1\" class=\"dataframe\">\n",
       "  <thead>\n",
       "    <tr style=\"text-align: right;\">\n",
       "      <th></th>\n",
       "      <th>Original</th>\n",
       "      <th>Modificado</th>\n",
       "    </tr>\n",
       "  </thead>\n",
       "  <tbody>\n",
       "    <tr>\n",
       "      <th>rxn00001_c0</th>\n",
       "      <td>-191.417904</td>\n",
       "      <td>-118.822709</td>\n",
       "    </tr>\n",
       "    <tr>\n",
       "      <th>rxn00001_d0</th>\n",
       "      <td>0.000000</td>\n",
       "      <td>0.000000</td>\n",
       "    </tr>\n",
       "    <tr>\n",
       "      <th>rxn00001_g0</th>\n",
       "      <td>0.000000</td>\n",
       "      <td>0.000000</td>\n",
       "    </tr>\n",
       "    <tr>\n",
       "      <th>rxn00001_v0</th>\n",
       "      <td>0.000000</td>\n",
       "      <td>0.000000</td>\n",
       "    </tr>\n",
       "    <tr>\n",
       "      <th>rxn00001_w0</th>\n",
       "      <td>0.000000</td>\n",
       "      <td>0.000000</td>\n",
       "    </tr>\n",
       "    <tr>\n",
       "      <th>...</th>\n",
       "      <td>...</td>\n",
       "      <td>...</td>\n",
       "    </tr>\n",
       "    <tr>\n",
       "      <th>EX_cpd00099_e0</th>\n",
       "      <td>-17.698141</td>\n",
       "      <td>-17.563345</td>\n",
       "    </tr>\n",
       "    <tr>\n",
       "      <th>EX_cpd00009_e0</th>\n",
       "      <td>-29.631576</td>\n",
       "      <td>-49.593370</td>\n",
       "    </tr>\n",
       "    <tr>\n",
       "      <th>EX_cpd11632_e0</th>\n",
       "      <td>-1000.000000</td>\n",
       "      <td>-1000.000000</td>\n",
       "    </tr>\n",
       "    <tr>\n",
       "      <th>DM_cpd02701_c0</th>\n",
       "      <td>0.008428</td>\n",
       "      <td>0.008363</td>\n",
       "    </tr>\n",
       "    <tr>\n",
       "      <th>DM_cpd11416_c0</th>\n",
       "      <td>84.276862</td>\n",
       "      <td>83.634975</td>\n",
       "    </tr>\n",
       "  </tbody>\n",
       "</table>\n",
       "<p>1085 rows × 2 columns</p>\n",
       "</div>"
      ],
      "text/plain": [
       "                   Original   Modificado\n",
       "rxn00001_c0     -191.417904  -118.822709\n",
       "rxn00001_d0        0.000000     0.000000\n",
       "rxn00001_g0        0.000000     0.000000\n",
       "rxn00001_v0        0.000000     0.000000\n",
       "rxn00001_w0        0.000000     0.000000\n",
       "...                     ...          ...\n",
       "EX_cpd00099_e0   -17.698141   -17.563345\n",
       "EX_cpd00009_e0   -29.631576   -49.593370\n",
       "EX_cpd11632_e0 -1000.000000 -1000.000000\n",
       "DM_cpd02701_c0     0.008428     0.008363\n",
       "DM_cpd11416_c0    84.276862    83.634975\n",
       "\n",
       "[1085 rows x 2 columns]"
      ]
     },
     "execution_count": 25,
     "metadata": {},
     "output_type": "execute_result"
    }
   ],
   "source": [
    "ids_excluir = ['cpd00002','cpd00008', 'cpd00163']\n",
    "documento_modificado = documento_sbml.clone()\n",
    "for metabolito_id, nuevo_coeficiente in diccionario_coeficientes.items():\n",
    "    if metabolito_id not in ids_excluir:\n",
    "        # Actualiza el documento_modificado en cada iteración para que los cambios sean acumulativos\n",
    "        documento_modificado = modificar_modelo(documento_modificado, metabolito_id, nuevo_coeficiente)\n",
    "\n",
    "libsbml.writeSBMLToFile(documento_modificado, \"../Models/PstKB-new2.xml\")\n",
    "modelo_new = read_sbml_model(\"../Models/PstKB-new2.xml\")\n",
    "\n",
    "# Optimización y comparación de resultados\n",
    "resultado_original = modelo_ori.optimize().fluxes\n",
    "resultado_modificado = modelo_new.optimize().fluxes\n",
    "\n",
    "# Crear un DataFrame para comparar resultados\n",
    "df_resultados = pd.DataFrame({'Original': resultado_original, 'Modificado': resultado_modificado})\n",
    "\n",
    "# Guardar los resultados en un archivo CSV\n",
    "df_resultados.to_csv(\"../Data/Comparacion_Ori_vs_New2.csv\")\n",
    "df_resultados"
   ]
  },
  {
   "cell_type": "code",
   "execution_count": 23,
   "metadata": {},
   "outputs": [
    {
     "data": {
      "text/html": [
       "<div>\n",
       "<style scoped>\n",
       "    .dataframe tbody tr th:only-of-type {\n",
       "        vertical-align: middle;\n",
       "    }\n",
       "\n",
       "    .dataframe tbody tr th {\n",
       "        vertical-align: top;\n",
       "    }\n",
       "\n",
       "    .dataframe thead th {\n",
       "        text-align: right;\n",
       "    }\n",
       "</style>\n",
       "<table border=\"1\" class=\"dataframe\">\n",
       "  <thead>\n",
       "    <tr style=\"text-align: right;\">\n",
       "      <th></th>\n",
       "      <th>Original</th>\n",
       "      <th>Modificado</th>\n",
       "    </tr>\n",
       "  </thead>\n",
       "  <tbody>\n",
       "    <tr>\n",
       "      <th>Biomasa</th>\n",
       "      <td>84.276862</td>\n",
       "      <td>83.634975</td>\n",
       "    </tr>\n",
       "  </tbody>\n",
       "</table>\n",
       "</div>"
      ],
      "text/plain": [
       "          Original  Modificado\n",
       "Biomasa  84.276862   83.634975"
      ]
     },
     "execution_count": 23,
     "metadata": {},
     "output_type": "execute_result"
    }
   ],
   "source": [
    "biomass_ori = modelo_ori.optimize().objective_value\n",
    "biomass_new = modelo_new.optimize().objective_value\n",
    "compareBIOMASS = pd.DataFrame({'Original': [biomass_ori], 'Modificado': [biomass_new]},index=['Biomasa'])\n",
    "compareBIOMASS"
   ]
  }
 ],
 "metadata": {
  "kernelspec": {
   "display_name": ".venv",
   "language": "python",
   "name": "python3"
  },
  "language_info": {
   "codemirror_mode": {
    "name": "ipython",
    "version": 3
   },
   "file_extension": ".py",
   "mimetype": "text/x-python",
   "name": "python",
   "nbconvert_exporter": "python",
   "pygments_lexer": "ipython3",
   "version": "3.7.5"
  }
 },
 "nbformat": 4,
 "nbformat_minor": 2
}
