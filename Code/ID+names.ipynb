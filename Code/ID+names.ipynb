{
 "cells": [
  {
   "cell_type": "code",
   "execution_count": 2,
   "metadata": {},
   "outputs": [],
   "source": [
    "import libsbml\n",
    "import pandas as pd\n",
    "# Cargar el modelo\n",
    "modelo_ori_path = '../Models/PstKB.ori.xml'\n",
    "# Crear un lector de SBML y leer el archivo SBML\n",
    "documento_sbml = libsbml.readSBML(modelo_ori_path)\n",
    "# Obtener el modelo de SBML\n",
    "modelo_ori_sbml = documento_sbml.getModel()"
   ]
  },
  {
   "cell_type": "markdown",
   "metadata": {},
   "source": [
    "# Lista de ID + Nombres de Especies"
   ]
  },
  {
   "cell_type": "code",
   "execution_count": 6,
   "metadata": {},
   "outputs": [],
   "source": [
    "# Lista para almacenar la información de las especies\n",
    "datos_especies = []\n",
    "# Iterar sobre todas las especies en el modelo\n",
    "for i in range(modelo_ori_sbml.getNumSpecies()):\n",
    "    especie = modelo_ori_sbml.getSpecies(i)\n",
    "    # Agregar el ID y el nombre de la especie a la lista\n",
    "    datos_especies.append({\"ID\": especie.getId(), \"Name\": especie.getName()})\n",
    "# Convertir la lista a un DataFrame de Pandas\n",
    "df_especies = pd.DataFrame(datos_especies)\n",
    "# Mostrar el DataFrame\n",
    "df_especies.to_csv(\"../Data/allSpecies.csv\")"
   ]
  },
  {
   "cell_type": "markdown",
   "metadata": {},
   "source": [
    "# Lista de ID + Reacciones"
   ]
  },
  {
   "cell_type": "code",
   "execution_count": 7,
   "metadata": {},
   "outputs": [],
   "source": [
    "# Lista para almacenar la información de las reacciones\n",
    "datos_reacciones = []\n",
    "# Iterar sobre todas las reacciones en el modelo\n",
    "for i in range(modelo_ori_sbml.getNumReactions()):\n",
    "    reaccion = modelo_ori_sbml.getReaction(i)\n",
    "    # Agregar el ID y el nombre de la reacción a la lista\n",
    "    datos_reacciones.append({\"ID\": reaccion.getId(), \"Name\": reaccion.getName()})\n",
    "# Convertir la lista a un DataFrame de Pandas\n",
    "df_reacciones = pd.DataFrame(datos_reacciones)\n",
    "# Mostrar el DataFrame\n",
    "df_reacciones.to_csv(\"../Data/allReactions.csv\")"
   ]
  }
 ],
 "metadata": {
  "kernelspec": {
   "display_name": "potato-model",
   "language": "python",
   "name": "potato-model"
  },
  "language_info": {
   "codemirror_mode": {
    "name": "ipython",
    "version": 3
   },
   "file_extension": ".py",
   "mimetype": "text/x-python",
   "name": "python",
   "nbconvert_exporter": "python",
   "pygments_lexer": "ipython3",
   "version": "3.11.8"
  }
 },
 "nbformat": 4,
 "nbformat_minor": 2
}
