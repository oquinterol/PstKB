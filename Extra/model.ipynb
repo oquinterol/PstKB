{
 "cells": [
  {
   "cell_type": "markdown",
   "metadata": {},
   "source": [
    "# Modelo Escala Genómica, Papa"
   ]
  },
  {
   "cell_type": "code",
   "execution_count": null,
   "metadata": {},
   "outputs": [],
   "source": [
    "# Instalación de librerías\n",
    "!pip install cobra python-libsbml"
   ]
  },
  {
   "cell_type": "code",
   "execution_count": 1,
   "metadata": {},
   "outputs": [
    {
     "name": "stdout",
     "output_type": "stream",
     "text": [
      "libSBML version: 52002\n",
      "Cobra version: 0.29.0\n"
     ]
    }
   ],
   "source": [
    "# Verificación de la instalación\n",
    "import libsbml\n",
    "import cobra\n",
    "print(\"libSBML version:\", libsbml.getLibSBMLVersion())\n",
    "print(\"Cobra version:\", cobra.__version__)"
   ]
  },
  {
   "cell_type": "code",
   "execution_count": 2,
   "metadata": {},
   "outputs": [],
   "source": [
    "# Ruta del archivo\n",
    "PstKB = '../PstKB.ori.xml'\n",
    "# Crear un lector de SBML\n",
    "lector = libsbml.SBMLReader()\n",
    "# Leer el archivo SBML y cargarlo en un objeto SBMLDocument\n",
    "documento_sbml = lector.readSBML(PstKB)\n",
    "# Obtener el modelo el SBML\n",
    "modelo = documento_sbml.getModel()"
   ]
  },
  {
   "cell_type": "code",
   "execution_count": 12,
   "metadata": {},
   "outputs": [
    {
     "name": "stdout",
     "output_type": "stream",
     "text": [
      "Reacciones que contienen el metabolito: cpd11416\n",
      "R_bio1_biomass\n",
      "R_bio2_biomass\n",
      "R_DM_cpd11416_c0\n"
     ]
    }
   ],
   "source": [
    "# Texto parcial o clave que estás buscando en los IDs de las reacciones\n",
    "clave_metabolito = 'cpd11416'\n",
    "# Lista para almacenar las reacciones que contienen el metabolito\n",
    "reacciones_con_metabolito = []\n",
    "# Iterar a través de cada reacción en el modelo\n",
    "for i in range(modelo.getNumReactions()):\n",
    "    reaccion = modelo.getReaction(i)\n",
    "    # Buscar el metabolito clave en los reactantes de la reacción\n",
    "    for reactante in reaccion.getListOfReactants():\n",
    "        if clave_metabolito in reactante.getSpecies():\n",
    "            reacciones_con_metabolito.append(reaccion.getId())\n",
    "            break  # Rompe el bucle interno si se encuentra el metabolito\n",
    "    # Si no se encontró en los reactantes, buscar en los productos\n",
    "    if reaccion.getId() not in reacciones_con_metabolito:\n",
    "        for producto in reaccion.getListOfProducts():\n",
    "            if clave_metabolito in producto.getSpecies():\n",
    "                reacciones_con_metabolito.append(reaccion.getId())\n",
    "                break  # Rompe el bucle interno si se encuentra el metabolito\n",
    "# Imprimir las reacciones encontradas que contienen el metabolito\n",
    "print(\"Reacciones que contienen el metabolito:\", clave_metabolito)\n",
    "for id_reaccion in reacciones_con_metabolito:\n",
    "    print(id_reaccion)"
   ]
  },
  {
   "cell_type": "code",
   "execution_count": 4,
   "metadata": {},
   "outputs": [
    {
     "name": "stdout",
     "output_type": "stream",
     "text": [
      "<Reaction R_bio1_biomass \"Plant Leaf (Core) auto biomass\">\n"
     ]
    }
   ],
   "source": [
    "# Buscamos la reacción por ID la de biomasa como sabemos es cpd11416[c0]\n",
    "id_biomasa=\"R_bio1_biomass\"\n",
    "reaccion_biomasa= modelo.getReaction(id_biomasa)\n",
    "print(reaccion_biomasa)"
   ]
  },
  {
   "cell_type": "code",
   "execution_count": 5,
   "metadata": {},
   "outputs": [
    {
     "name": "stdout",
     "output_type": "stream",
     "text": [
      "Reacción R_bio1_biomass:\n",
      "0.161 L-Alanine_c0 + 0.039 L-Lactate_c0 + 0.076 Ferulate_c0 + 0.074 L-Phenylalanine_c0 + 0.172 L-Leucine_c0 + 0.024 L-Tryptophan_c0 + 0.00015 NADH_c0 + 0.0001 FAD_c0 + 0.0001 5-10-Methenyltetrahydrofolate_c0 + 0.1 L-Serine_c0 + 0.03 dATP_c0 + 30.0 H2O_c0 + 0.0001 5-10-Methylenetetrahydrofolate_c0 + 0.011 ocdca_c0 + 0.026 dCTP_c0 + 0.096 L-Lysine_c0 + 0.038 L-Histidine_c0 + 0.0757 Oxaloacetate_c0 + 0.0001 NADPH_c0 + 0.015 Oleate_c0 + 0.000975 Phytonadiol_d0 + 0.0001 FMN_c0 + 0.096 L-Threonine_c0 + 0.13 L-Glutamate_c0 + 0.11 L-Arginine_c0 + 0.15 Glycine_c0 + 0.056 L-Asparagine_c0 + 0.0001 BIOT_c0 + 0.037 L-Malate_c0 + 0.083 L-Isoleucine_c0 + 0.000543 S-Adenosyl-L-methionine_c0 + 0.049 L-Methionine_c0 + 0.013 Citrate_c0 + 0.086 cis-Aconitate_c0 + 0.000155 Plastoquinol-9_c0 + 0.0001 5-Methyltetrahydrofolate_c0 + 0.766 UDP-xylose_c0 + 0.127 L-Valine_c0 + 0.2271 beta-D-Fructose_c0 + 0.026 dGTP_c0 + 0.098 L-Aspartate_c0 + 0.000136 CoA_c0 + 1.59 alpha-D-Glucose_c0 + 0.329 Palmitate_c0 + 0.55 4-Coumarate_c0 + 0.001 Phosphopantetheine_c0 + 0.0001 5-Formyltetrahydrofolate_c0 + 0.071 L-Glutamine_c0 + 0.21 Cl-_c0 + 0.029 L-Cysteine_c0 + 0.096 L-Proline_c0 + 0.0003 NAD_c0 + 0.026 GTP_c0 + 0.0001 10-Formyltetrahydrofolate_c0 + 0.13 Glycerol-3-phosphate_c0 + 0.026 CTP_c0 + 0.0377 beta-D-Ribofuranose_c0 + 0.0001 Tetrahydrofolate_c0 + 0.00013 NADP_c0 + 0.03 TTP_c0 + 0.027 UTP_c0 + 0.0001 Pyridoxal phosphate_c0 + 0.307 K+_c0 + 30.027 ATP_c0 + 0.0001 ubiquinol(9)_c0 + 0.0001 TPP_c0 + 0.049 L-Tyrosine_c0 --> 30.0 Phosphate_c0 + 0.218 PPi_c0 + 30.0 H+_c0 + 1.0 Biomass_c0 + 0.766 UDP_c0 + 30.0 ADP_c0\n"
     ]
    }
   ],
   "source": [
    "# Asegúrate de tener el modelo cargado como se describió anteriormente\n",
    "\n",
    "# ID de la reacción que quieres examinar\n",
    "id_reaccion = 'R_bio1_biomass'\n",
    "\n",
    "# Obtener la reacción del modelo por su ID\n",
    "reaccion = modelo.getReaction(id_reaccion)\n",
    "\n",
    "if reaccion:\n",
    "    # Inicializar las partes de la ecuación de la reacción\n",
    "    ecuacion_reactantes = []\n",
    "    ecuacion_productos = []\n",
    "\n",
    "    # Iterar sobre los reactantes de la reacción\n",
    "    for reactante in reaccion.getListOfReactants():\n",
    "        especie = modelo.getSpecies(reactante.getSpecies())\n",
    "        nombre_especie = especie.getName() if especie.getName() else reactante.getSpecies()\n",
    "        coeficiente = reactante.getStoichiometry()\n",
    "        ecuacion_reactantes.append(f\"{coeficiente} {nombre_especie}\")\n",
    "\n",
    "    # Iterar sobre los productos de la reacción\n",
    "    for producto in reaccion.getListOfProducts():\n",
    "        especie = modelo.getSpecies(producto.getSpecies())\n",
    "        nombre_especie = especie.getName() if especie.getName() else producto.getSpecies()\n",
    "        coeficiente = producto.getStoichiometry()\n",
    "        ecuacion_productos.append(f\"{coeficiente} {nombre_especie}\")\n",
    "\n",
    "    # Construir la ecuación de la reacción\n",
    "    ecuacion = ' + '.join(ecuacion_reactantes) + \" --> \" + ' + '.join(ecuacion_productos)\n",
    "\n",
    "    # Imprimir la ecuación de la reacción\n",
    "    print(f\"Reacción {id_reaccion}:\")\n",
    "    print(ecuacion)\n",
    "else:\n",
    "    print(f\"La reacción con ID '{id_reaccion}' no se encontró en el modelo.\")\n"
   ]
  },
  {
   "cell_type": "markdown",
   "metadata": {},
   "source": [
    "## Prueba para definir correctamente los ID de los metabolitos"
   ]
  },
  {
   "cell_type": "code",
   "execution_count": 14,
   "metadata": {},
   "outputs": [
    {
     "name": "stdout",
     "output_type": "stream",
     "text": [
      "Metabolitos que contienen 'cpd00001':\n",
      "M_cpd00001_c0\n",
      "M_cpd00001_d0\n",
      "M_cpd00001_g0\n",
      "M_cpd00001_v0\n",
      "M_cpd00001_w0\n",
      "M_cpd00001_x0\n",
      "M_cpd00001_n0\n",
      "M_cpd00001_m0\n",
      "M_cpd00001_r0\n",
      "M_cpd00001_e0\n"
     ]
    }
   ],
   "source": [
    "# Asegúrate de tener el modelo cargado como se describió anteriormente\n",
    "# Cadena que deseas buscar en los ID de los metabolitos\n",
    "cadena_busqueda = 'cpd00001'\n",
    "# Lista para almacenar los ID de los metabolitos que coinciden con la búsqueda\n",
    "metabolitos_coincidentes = []\n",
    "# Iterar a través de todas las especies (metabolitos) en el modelo\n",
    "for i in range(modelo.getNumSpecies()):\n",
    "    # Obtener la especie actual\n",
    "    especie = modelo.getSpecies(i)\n",
    "    # Obtener el ID de la especie\n",
    "    id_especie = especie.getId()\n",
    "    # Verificar si el ID de la especie contiene la cadena de búsqueda\n",
    "    if cadena_busqueda in id_especie:\n",
    "        # Agregar el ID de la especie a la lista de coincidencias\n",
    "        metabolitos_coincidentes.append(id_especie)\n",
    "# Imprimir los resultados\n",
    "if metabolitos_coincidentes:\n",
    "    print(f\"Metabolitos que contienen '{cadena_busqueda}':\")\n",
    "    for id_metabolito in metabolitos_coincidentes:\n",
    "        print(id_metabolito)\n",
    "else:\n",
    "    print(f\"No se encontraron metabolitos que contengan '{cadena_busqueda}'.\")"
   ]
  },
  {
   "cell_type": "code",
   "execution_count": 35,
   "metadata": {},
   "outputs": [
    {
     "data": {
      "text/html": [
       "<div>\n",
       "<style scoped>\n",
       "    .dataframe tbody tr th:only-of-type {\n",
       "        vertical-align: middle;\n",
       "    }\n",
       "\n",
       "    .dataframe tbody tr th {\n",
       "        vertical-align: top;\n",
       "    }\n",
       "\n",
       "    .dataframe thead th {\n",
       "        text-align: right;\n",
       "    }\n",
       "</style>\n",
       "<table border=\"1\" class=\"dataframe\">\n",
       "  <thead>\n",
       "    <tr style=\"text-align: right;\">\n",
       "      <th></th>\n",
       "      <th>ID Metabolito</th>\n",
       "      <th>Coeficiente</th>\n",
       "    </tr>\n",
       "  </thead>\n",
       "  <tbody>\n",
       "    <tr>\n",
       "      <th>0</th>\n",
       "      <td>M_cpd00035_c0</td>\n",
       "      <td>0.125715</td>\n",
       "    </tr>\n",
       "    <tr>\n",
       "      <th>1</th>\n",
       "      <td>M_cpd00159_c0</td>\n",
       "      <td>0.039000</td>\n",
       "    </tr>\n",
       "    <tr>\n",
       "      <th>2</th>\n",
       "      <td>M_cpd01059_c0</td>\n",
       "      <td>0.076000</td>\n",
       "    </tr>\n",
       "    <tr>\n",
       "      <th>3</th>\n",
       "      <td>M_cpd00066_c0</td>\n",
       "      <td>0.066998</td>\n",
       "    </tr>\n",
       "    <tr>\n",
       "      <th>4</th>\n",
       "      <td>M_cpd00107_c0</td>\n",
       "      <td>0.149333</td>\n",
       "    </tr>\n",
       "    <tr>\n",
       "      <th>...</th>\n",
       "      <td>...</td>\n",
       "      <td>...</td>\n",
       "    </tr>\n",
       "    <tr>\n",
       "      <th>68</th>\n",
       "      <td>M_cpd00012_c0</td>\n",
       "      <td>0.251164</td>\n",
       "    </tr>\n",
       "    <tr>\n",
       "      <th>69</th>\n",
       "      <td>M_cpd00067_c0</td>\n",
       "      <td>50.821625</td>\n",
       "    </tr>\n",
       "    <tr>\n",
       "      <th>70</th>\n",
       "      <td>M_cpd11416_c0</td>\n",
       "      <td>1.000000</td>\n",
       "    </tr>\n",
       "    <tr>\n",
       "      <th>71</th>\n",
       "      <td>M_cpd00014_c0</td>\n",
       "      <td>0.766000</td>\n",
       "    </tr>\n",
       "    <tr>\n",
       "      <th>72</th>\n",
       "      <td>M_cpd00008_c0</td>\n",
       "      <td>50.821625</td>\n",
       "    </tr>\n",
       "  </tbody>\n",
       "</table>\n",
       "<p>73 rows × 2 columns</p>\n",
       "</div>"
      ],
      "text/plain": [
       "    ID Metabolito  Coeficiente\n",
       "0   M_cpd00035_c0     0.125715\n",
       "1   M_cpd00159_c0     0.039000\n",
       "2   M_cpd01059_c0     0.076000\n",
       "3   M_cpd00066_c0     0.066998\n",
       "4   M_cpd00107_c0     0.149333\n",
       "..            ...          ...\n",
       "68  M_cpd00012_c0     0.251164\n",
       "69  M_cpd00067_c0    50.821625\n",
       "70  M_cpd11416_c0     1.000000\n",
       "71  M_cpd00014_c0     0.766000\n",
       "72  M_cpd00008_c0    50.821625\n",
       "\n",
       "[73 rows x 2 columns]"
      ]
     },
     "execution_count": 35,
     "metadata": {},
     "output_type": "execute_result"
    }
   ],
   "source": [
    "import pandas as pd\n",
    "# ID de la reacción de interés\n",
    "id_reaccion = 'R_bio1_biomass'\n",
    "# Obtener la reacción específica por su ID\n",
    "reaccion = modelo.getReaction(id_reaccion)\n",
    "# Preparar una lista para almacenar los datos de los metabolitos y sus coeficientes\n",
    "metabolitos_y_coeficientes = []\n",
    "if reaccion:\n",
    "    # Iterar sobre los reactantes y productos de la reacción\n",
    "    for lista_metabolitos in [reaccion.getListOfReactants(), reaccion.getListOfProducts()]:\n",
    "        for componente in lista_metabolitos:\n",
    "            id_metabolito = componente.getSpecies()\n",
    "            coeficiente = componente.getStoichiometry()\n",
    "            \n",
    "            # Filtrar solo aquellos metabolitos cuyo ID contiene 'cpd'\n",
    "            if 'cpd' in id_metabolito:\n",
    "                metabolitos_y_coeficientes.append((id_metabolito, coeficiente))\n",
    "# Convertir la lista en un DataFrame para visualización como tabla\n",
    "df_metabolitos = pd.DataFrame(metabolitos_y_coeficientes, columns=['ID Metabolito', 'Coeficiente'])\n",
    "# Mostrar la tabla\n",
    "df_metabolitos.to_csv('allSpeciesBIOMASS2.csv',index=False)\n",
    "df_metabolitos"
   ]
  },
  {
   "cell_type": "markdown",
   "metadata": {},
   "source": [
    "### Actualización de los coeficientes en la reacción R_bio1_biomass\n"
   ]
  },
  {
   "cell_type": "code",
   "execution_count": 17,
   "metadata": {},
   "outputs": [],
   "source": [
    "# Cargar los datos de excel\n",
    "import pandas as pd\n",
    "import numpy as np\n",
    "# Cargar las hojas del excel como data frame separados\n",
    "file_xls= '../modelData.xls'\n",
    "Comparative_OFs_sheet='Comparative OFs'\n",
    "Comparative_OFs_columns = ['ID','Metabolite','Botero 2018','Guevara 2023','PstKB_Ori','PstKB_cobra']\n",
    "Comparative_OFs = pd.read_excel(file_xls, sheet_name=Comparative_OFs_sheet, names=Comparative_OFs_columns)"
   ]
  },
  {
   "cell_type": "code",
   "execution_count": 20,
   "metadata": {},
   "outputs": [
    {
     "data": {
      "text/html": [
       "<div>\n",
       "<style scoped>\n",
       "    .dataframe tbody tr th:only-of-type {\n",
       "        vertical-align: middle;\n",
       "    }\n",
       "\n",
       "    .dataframe tbody tr th {\n",
       "        vertical-align: top;\n",
       "    }\n",
       "\n",
       "    .dataframe thead th {\n",
       "        text-align: right;\n",
       "    }\n",
       "</style>\n",
       "<table border=\"1\" class=\"dataframe\">\n",
       "  <thead>\n",
       "    <tr style=\"text-align: right;\">\n",
       "      <th></th>\n",
       "      <th>ID</th>\n",
       "      <th>PstKB_cobra</th>\n",
       "    </tr>\n",
       "  </thead>\n",
       "  <tbody>\n",
       "    <tr>\n",
       "      <th>0</th>\n",
       "      <td>cpd00001</td>\n",
       "      <td>52.486878</td>\n",
       "    </tr>\n",
       "    <tr>\n",
       "      <th>1</th>\n",
       "      <td>cpd00002</td>\n",
       "      <td>50.864030</td>\n",
       "    </tr>\n",
       "    <tr>\n",
       "      <th>2</th>\n",
       "      <td>cpd00003</td>\n",
       "      <td>0.000300</td>\n",
       "    </tr>\n",
       "    <tr>\n",
       "      <th>3</th>\n",
       "      <td>cpd00004</td>\n",
       "      <td>0.000150</td>\n",
       "    </tr>\n",
       "    <tr>\n",
       "      <th>4</th>\n",
       "      <td>cpd00005</td>\n",
       "      <td>0.000100</td>\n",
       "    </tr>\n",
       "    <tr>\n",
       "      <th>...</th>\n",
       "      <td>...</td>\n",
       "      <td>...</td>\n",
       "    </tr>\n",
       "    <tr>\n",
       "      <th>67</th>\n",
       "      <td>cpd16443</td>\n",
       "      <td>0.037700</td>\n",
       "    </tr>\n",
       "    <tr>\n",
       "      <th>68</th>\n",
       "      <td>cpd16503</td>\n",
       "      <td>0.000155</td>\n",
       "    </tr>\n",
       "    <tr>\n",
       "      <th>69</th>\n",
       "      <td>cpd19001</td>\n",
       "      <td>0.053000</td>\n",
       "    </tr>\n",
       "    <tr>\n",
       "      <th>70</th>\n",
       "      <td>cpd25914</td>\n",
       "      <td>0.000100</td>\n",
       "    </tr>\n",
       "    <tr>\n",
       "      <th>71</th>\n",
       "      <td>cpd30321</td>\n",
       "      <td>0.227100</td>\n",
       "    </tr>\n",
       "  </tbody>\n",
       "</table>\n",
       "<p>72 rows × 2 columns</p>\n",
       "</div>"
      ],
      "text/plain": [
       "          ID  PstKB_cobra\n",
       "0   cpd00001    52.486878\n",
       "1   cpd00002    50.864030\n",
       "2   cpd00003     0.000300\n",
       "3   cpd00004     0.000150\n",
       "4   cpd00005     0.000100\n",
       "..       ...          ...\n",
       "67  cpd16443     0.037700\n",
       "68  cpd16503     0.000155\n",
       "69  cpd19001     0.053000\n",
       "70  cpd25914     0.000100\n",
       "71  cpd30321     0.227100\n",
       "\n",
       "[72 rows x 2 columns]"
      ]
     },
     "execution_count": 20,
     "metadata": {},
     "output_type": "execute_result"
    }
   ],
   "source": [
    "# Construcción del data set con los valores nuevos\n",
    "Comparative_OFs = Comparative_OFs.iloc[:,[0,-1]]\n",
    "# Quitar [c0] de ID\n",
    "Comparative_OFs['ID'] = Comparative_OFs['ID'].str.replace(r'\\[c0\\]', '',regex=True)\n",
    "Comparative_OFs"
   ]
  },
  {
   "cell_type": "code",
   "execution_count": 24,
   "metadata": {},
   "outputs": [
    {
     "name": "stdout",
     "output_type": "stream",
     "text": [
      "Coeficientes actualizados para la reacción 'R_bio1_biomass'.\n"
     ]
    }
   ],
   "source": [
    "# Convertir el dataframe en un diccionario para fácil accesión\n",
    "DiccionarioCoeficientes = pd.Series(Comparative_OFs.PstKB_cobra.values, index=Comparative_OFs.ID).to_dict()\n",
    "## Como se cargo la reaccion arriba no hay necesidad aca\n",
    "if reaccion:\n",
    "    # Iterar sobre los reactantes y actualizar los coeficientes\n",
    "    for reactante in reaccion.getListOfReactants():\n",
    "        id_especie = reactante.getSpecies()\n",
    "        # Comprobar si alguna clave en el diccionario está contenida en el ID de la especie\n",
    "        for key in DiccionarioCoeficientes.keys():\n",
    "            if key in id_especie:\n",
    "                nuevo_coeficiente = DiccionarioCoeficientes[key]\n",
    "                reactante.setStoichiometry(nuevo_coeficiente)\n",
    "                break  # Romper el ciclo una vez que se actualiza el coeficiente\n",
    "\n",
    "    # Repetir para los productos si es necesario\n",
    "    for producto in reaccion.getListOfProducts():\n",
    "        id_especie = producto.getSpecies()\n",
    "        # Comprobar si alguna clave en el diccionario está contenida en el ID de la especie\n",
    "        for key in DiccionarioCoeficientes.keys():\n",
    "            if key in id_especie:\n",
    "                nuevo_coeficiente = DiccionarioCoeficientes[key]\n",
    "                producto.setStoichiometry(nuevo_coeficiente)\n",
    "                break  # Romper el ciclo una vez que se actualiza el coeficiente\n",
    "\n",
    "    print(f\"Coeficientes actualizados para la reacción '{id_reaccion}'.\")\n",
    "else:\n",
    "    print(f\"No se encontró la reacción con ID '{id_reaccion}' en el modelo.\")"
   ]
  },
  {
   "cell_type": "code",
   "execution_count": 26,
   "metadata": {},
   "outputs": [
    {
     "data": {
      "text/plain": [
       "True"
      ]
     },
     "execution_count": 26,
     "metadata": {},
     "output_type": "execute_result"
    }
   ],
   "source": [
    "# Guardar el nuevo modelo\n",
    "UpdateModelo = '../PstKB_cobra.xml'\n",
    "escritor= libsbml.SBMLWriter()\n",
    "escritor.writeSBML(documento_sbml, UpdateModelo)"
   ]
  },
  {
   "cell_type": "markdown",
   "metadata": {},
   "source": [
    "## Por ultimo correr el modelo con Cobrapy, para verificar que corra"
   ]
  },
  {
   "cell_type": "code",
   "execution_count": 27,
   "metadata": {},
   "outputs": [],
   "source": [
    "from cobra.io import read_sbml_model\n",
    "file_sbml= '../PstKB_cobra.xml'\n",
    "PapaModel= read_sbml_model(file_sbml)"
   ]
  },
  {
   "cell_type": "code",
   "execution_count": 31,
   "metadata": {},
   "outputs": [
    {
     "name": "stdout",
     "output_type": "stream",
     "text": [
      "Función Objetivo Actual: 1.0*bio1_biomass - 1.0*bio1_biomass_reverse_6e711\n"
     ]
    }
   ],
   "source": [
    "print(\"Función Objetivo Actual:\", PapaModel.objective.expression)"
   ]
  },
  {
   "cell_type": "code",
   "execution_count": 34,
   "metadata": {},
   "outputs": [
    {
     "name": "stdout",
     "output_type": "stream",
     "text": [
      "Solución FBA:\n",
      "<Solution 0.000 at 0x7e9439d23c10>\n"
     ]
    }
   ],
   "source": [
    "from cobra.flux_analysis import flux_variability_analysis\n",
    "# Realizar FBA\n",
    "solucion_fba = PapaModel.optimize()\n",
    "print(\"Solución FBA:\")\n",
    "print(solucion_fba)"
   ]
  }
 ],
 "metadata": {
  "kernelspec": {
   "display_name": "Python 3",
   "language": "python",
   "name": "python3"
  },
  "language_info": {
   "codemirror_mode": {
    "name": "ipython",
    "version": 3
   },
   "file_extension": ".py",
   "mimetype": "text/x-python",
   "name": "python",
   "nbconvert_exporter": "python",
   "pygments_lexer": "ipython3",
   "version": "3.11.6"
  }
 },
 "nbformat": 4,
 "nbformat_minor": 2
}
